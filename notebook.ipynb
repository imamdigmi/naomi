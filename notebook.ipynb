{
 "cells": [
  {
   "cell_type": "code",
   "execution_count": 2,
   "metadata": {},
   "outputs": [],
   "source": [
    "import os\n",
    "import csv\n",
    "from datetime import datetime\n",
    "import pandas as pd\n",
    "\n",
    "DIR = os.getcwd()\n",
    "images = os.path.join(DIR, \"datasets/uncropped\")\n"
   ]
  },
  {
   "cell_type": "code",
   "execution_count": 4,
   "metadata": {},
   "outputs": [],
   "source": [
    "# Format nama = <NOMOR>.<PLAT>-<BULAN KADALUARSA>-<TAHUN KADALUARSA>.<EXTENSION>\n",
    "# Contoh = 89.E 2521 PQ-09-22.jpeg\n",
    "\n",
    "no = 1\n",
    "for i in os.listdir(\"/home/idiot/Desktop/models/research/object_detection/images/train/\"):\n",
    "    a = i.split(\".\")[-1]\n",
    "    if a == \"jpeg\":\n",
    "        ext = 'jpg'\n",
    "        name = \"image\" + str(no) + \".\" + ext\n",
    "\n",
    "        old = os.path.join(\"/home/idiot/Desktop/models/research/object_detection/images/train/\", i)\n",
    "        new = os.path.join(\"/home/idiot/Desktop/models/research/object_detection/images/train/\", name)\n",
    "        os.rename(old, new)\n",
    "\n",
    "        no += 1"
   ]
  },
  {
   "cell_type": "code",
   "execution_count": null,
   "metadata": {},
   "outputs": [],
   "source": [
    "import string\n",
    "currentMonth = datetime.now().month\n",
    "currentYear = datetime.now().strftime(\"%y\")\n",
    "\n",
    "plates = []\n",
    "for i in os.listdir(images):\n",
    "    a, b, c = i.split(\".\")\n",
    "    plate = b.split(\"-\")[-3]\n",
    "    month = b.split(\"-\")[-2]\n",
    "    year = b.split(\"-\")[-1]\n",
    "    \n",
    "    if int(year) <= int(currentYear):\n",
    "        \n",
    "        expired = \"Yes\"\n",
    "    else:\n",
    "        expired = \"No\"\n",
    "        \n",
    "    plates.append([a, plate, month, year, expired])"
   ]
  },
  {
   "cell_type": "code",
   "execution_count": null,
   "metadata": {},
   "outputs": [],
   "source": [
    "with open(labels, \"w\", newline=\"\") as output:\n",
    "    w = csv.writer(output, lineterminator=\"\\n\")\n",
    "    w.writerow([\"No\", \"Nomor Kendaraan\", \"Bulan Kadaluarsa\", \"Tahun Kadaluarsa\", \"Kadaluarsa\"])\n",
    "    no = 0\n",
    "    for i in plates:\n",
    "        no += 1\n",
    "        w.writerow([no, i[1], i[2], i[3], i[4]])"
   ]
  },
  {
   "cell_type": "code",
   "execution_count": null,
   "metadata": {},
   "outputs": [],
   "source": [
    "pd.read_csv(labels)"
   ]
  }
 ],
 "metadata": {
  "kernelspec": {
   "display_name": "Python 3",
   "language": "python",
   "name": "python3"
  },
  "language_info": {
   "codemirror_mode": {
    "name": "ipython",
    "version": 3
   },
   "file_extension": ".py",
   "mimetype": "text/x-python",
   "name": "python",
   "nbconvert_exporter": "python",
   "pygments_lexer": "ipython3",
   "version": "3.5.2"
  }
 },
 "nbformat": 4,
 "nbformat_minor": 2
}
