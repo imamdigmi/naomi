{
 "cells": [
  {
   "cell_type": "code",
   "execution_count": 32,
   "metadata": {},
   "outputs": [
    {
     "name": "stderr",
     "output_type": "stream",
     "text": [
      "/home/idiot/.local/lib/python3.5/site-packages/skimage/util/dtype.py:122: UserWarning: Possible precision loss when converting from float64 to uint16\n",
      "  .format(dtypeobj_in, dtypeobj_out))\n"
     ]
    }
   ],
   "source": [
    "GAMBAR = '/home/idiot/Desktop/3.jpg'\n",
    "\n",
    "import numpy as np\n",
    "import scipy.signal\n",
    "import matplotlib.pyplot as plt\n",
    "from skimage import io, color\n",
    "from skimage import exposure\n",
    "\n",
    "%matplotlib tk\n",
    "\n",
    "img = io.imread(GAMBAR)\n",
    "img = color.rgb2gray(img)\n",
    "\n",
    "edges_kernel = [\n",
    "    # Vertical\n",
    "    [1, 0, -1],\n",
    "    [1, 0, -1],\n",
    "    [1, 0, -1],\n",
    "    \n",
    "    # Horizontal\n",
    "    #[1, 1, 1],\n",
    "    #[0, 0, 0],\n",
    "    #[-1, -1, -1],\n",
    "]\n",
    "\n",
    "kernel = np.array(edges_kernel)\n",
    "\n",
    "edges = scipy.signal.convolve2d(img, kernel, 'valid')\n",
    "edges_equalized = exposure.equalize_adapthist(edges/np.max(np.abs(edges)), clip_limit=0.03)\n",
    "#print('First 5 columns and rows of the image_sharpen matrix: \\n', image_sharpen[:5,:5]*255)\n",
    "\n",
    "plt.imshow(edges_equalized, cmap=plt.cm.gray)\n",
    "plt.show()"
   ]
  }
 ],
 "metadata": {
  "kernelspec": {
   "display_name": "Python 3",
   "language": "python",
   "name": "python3"
  },
  "language_info": {
   "codemirror_mode": {
    "name": "ipython",
    "version": 3
   },
   "file_extension": ".py",
   "mimetype": "text/x-python",
   "name": "python",
   "nbconvert_exporter": "python",
   "pygments_lexer": "ipython3",
   "version": "3.5.2"
  }
 },
 "nbformat": 4,
 "nbformat_minor": 2
}
